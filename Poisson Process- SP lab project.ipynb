{
 "cells": [
  {
   "cell_type": "code",
   "execution_count": 20,
   "metadata": {},
   "outputs": [
    {
     "name": "stdout",
     "output_type": "stream",
     "text": [
      "0.15629345185053165\n"
     ]
    }
   ],
   "source": [
    "####Part a: Run the process given Paramenters\n",
    "#Calculating P(N(t)=X), given t,X,lambda=k... Poisson Process\n",
    "import math\n",
    "def poisson_process(t,k,X):#Function for Poisson Process Probabilities\n",
    "    a=math.exp(-k*t)*(k*t)**X/math.factorial(X)\n",
    "    print(a)\n",
    "\n",
    "poisson_process(2,2,5) #Input Example"
   ]
  },
  {
   "cell_type": "code",
   "execution_count": 2,
   "metadata": {},
   "outputs": [
    {
     "name": "stdout",
     "output_type": "stream",
     "text": [
      "Choice of lambda: 5\n",
      "Time t: 5\n",
      "Max of X for plot: 100\n",
      "[1, 2, 3, 4, 5, 6, 7, 8, 9, 10, 11, 12, 13, 14, 15, 16, 17, 18, 19, 20, 21, 22, 23, 24, 25, 26, 27, 28, 29, 30, 31, 32, 33, 34, 35, 36, 37, 38, 39, 40, 41, 42, 43, 44, 45, 46, 47, 48, 49, 50, 51, 52, 53, 54, 55, 56, 57, 58, 59, 60, 61, 62, 63, 64, 65, 66, 67, 68, 69, 70, 71, 72, 73, 74, 75, 76, 77, 78, 79, 80, 81, 82, 83, 84, 85, 86, 87, 88, 89, 90, 91, 92, 93, 94, 95, 96, 97, 98, 99, 100]\n",
      "[3.471985966241005e-10, 4.339982457801257e-09, 3.616652048167714e-08, 2.260407530104821e-07, 1.1302037650524104e-06, 4.709182354385044e-06, 1.6818508408518014e-05, 5.25578387766188e-05, 0.00014599399660171887, 0.0003649849915042972, 0.0008295113443279481, 0.0017281486340165588, 0.0033233627577241515, 0.005934576353078842, 0.009890960588464736, 0.015454625919476151, 0.022727391058053163, 0.031565820913962726, 0.04153397488679306, 0.05191746860849132, 0.06180651024820396, 0.07023467073659541, 0.07634203340934283, 0.07952295146806546, 0.07952295146806546, 0.07646437641160139, 0.07080034852926055, 0.06321459690112549, 0.05449534215614266, 0.045412785130118885, 0.036623213814612005, 0.02861188579266563, 0.021675671055049722, 0.015937993422830674, 0.011384281016307627, 0.007905750705769184, 0.005341723449844043, 0.00351429174331845, 0.0022527511175118265, 0.0014079694484448917, 0.0008585179563688363, 0.0005110225930766883, 0.00029710615876551646, 0.00016881031748040707, 9.378350971133727e-05, 5.096929875616156e-05, 2.7111329125617854e-05, 1.4120483919592632e-05, 7.204328530404404e-06, 3.6021642652022023e-06, 1.7657667966677459e-06, 8.489263445518009e-07, 4.0043695497726465e-07, 1.85387479156141e-07, 8.42670359800641e-08, 3.761921249110004e-08, 1.6499654601359668e-08, 7.11192008679296e-09, 3.013525460505492e-09, 1.255635608543955e-09, 5.146047575999814e-10, 2.075019183870893e-10, 8.234203110598781e-11, 3.21648559007765e-11, 1.2371098423375574e-11, 4.686022130066506e-12, 1.7485157201740692e-12, 6.428366618287019e-13, 2.3291183399590653e-13, 8.31827978556809e-14, 2.9289717554817216e-14, 1.0170040817644867e-14, 3.482890690974269e-15, 1.1766522604642802e-15, 3.9221742015476e-16, 1.2901888820880264e-16, 4.1889249418442417e-17, 1.3426041480270006e-17, 4.248747303882913e-18, 1.3277335324634103e-18, 4.097943001430279e-19, 1.249372866289719e-19, 3.763171284005178e-20, 1.1199914535729696e-20, 3.2940925105087348e-21, 9.575850321246321e-22, 2.75168112679492e-22, 7.817275928394659e-23, 2.1958640248299607e-23, 6.099622291194335e-24, 1.6757204096687734e-24, 4.553588069752101e-25, 1.2240828144494894e-25, 3.255539400131621e-26, 8.567208947714792e-27, 2.2310439968007274e-27, 5.750113393816306e-28, 1.4668656616878333e-28, 3.7042062163834176e-29, 9.260515540958544e-30]\n"
     ]
    },
    {
     "data": {
      "text/plain": [
       "Text(0.5, 1.0, 'P(N(t)=X) for a selected t')"
      ]
     },
     "execution_count": 2,
     "metadata": {},
     "output_type": "execute_result"
    },
    {
     "data": {
      "image/png": "[encoded data removed]",
      "text/plain": [
       "<Figure size 432x288 with 1 Axes>"
      ]
     },
     "metadata": {},
     "output_type": "display_data"
    }
   ],
   "source": [
    "#Plotting the curve for N(t), for a given t\n",
    "import math\n",
    "import matplotlib.pyplot as plt\n",
    "import seaborn as sns #For plotting\n",
    "sns.set()\n",
    "k= int(input(\"Choice of lambda: \")) #User Input - the desired parameters\n",
    "t= int(input(\"Time t: \"))\n",
    "X=int(input(\"Max of X for plot: \"))\n",
    "list_X=[]\n",
    "list_P=[]\n",
    "for i in range(1,X+1):\n",
    "    p=math.exp(-k*t)*(k*t)**i/math.factorial(i)\n",
    "    list_X.append(i) #Appending the X values\n",
    "    list_P.append(p) #Appending the probabilities\n",
    "print(list_X)\n",
    "print(list_P)\n",
    "#plotting the data\n",
    "plt.plot(list_X, list_P)  #Plotting the probabilities\n",
    "plt.xlabel('Number of events X')\n",
    "plt.ylabel('Probability')\n",
    "plt.title('P(N(t)=X) for a selected t') \n",
    "#Ex. use lambda=5, t=5, max X =100 as user input"
   ]
  },
  {
   "cell_type": "code",
   "execution_count": 17,
   "metadata": {},
   "outputs": [
    {
     "name": "stdout",
     "output_type": "stream",
     "text": [
      "Total time duration: 100\n",
      "Total Events taken place during time duration t: 3\n",
      "ith Event who's expected time is required: 2\n"
     ]
    },
    {
     "data": {
      "text/plain": [
       "50"
      ]
     },
     "execution_count": 17,
     "metadata": {},
     "output_type": "execute_result"
    }
   ],
   "source": [
    "####Part b: Given Number of events in the given time, find out the expected time\n",
    "t_given=int(input(\"Total time duration t: \")) #User Input \n",
    "N_t=int(input(\"Total Events taken place during time duration N_t: \"))\n",
    "N_t_1=int(input(\"ith Event who's expected time is required ti: \"))\n",
    "math.ceil(N_t_1/(N_t+1)*t_given) \n",
    "#Example, use t=100, N_t=3 and ti=2. This will give the E(time in which event 2 will occur)\n"
   ]
  },
  {
   "cell_type": "code",
   "execution_count": 7,
   "metadata": {},
   "outputs": [
    {
     "name": "stdout",
     "output_type": "stream",
     "text": [
      "Initial lambda: 10\n",
      "lambda for 1st Poisson Process: 3\n",
      "Time window: 2\n",
      "Number of events for 1st Poisson Process: 8\n",
      "Number of events for 2nd Poisson Process: 10\n"
     ]
    },
    {
     "data": {
      "text/plain": [
       "0.08109758131601326"
      ]
     },
     "execution_count": 7,
     "metadata": {},
     "output_type": "execute_result"
    }
   ],
   "source": [
    "####Part c: Simulate Thinning Process\n",
    "'''Assume 10 Vehicles pass the junction in 1 minute with Poisson distribution.\n",
    "30% of them are cars and 70% are bikes.Between 8th and 10th minute ( i.e. 2 min window),\n",
    "QUESTION: If there are 18 vehicles, what is the probability that 10 of them are bikes ?\n",
    "(Here, lambda=10, lambda1=3, lambda2=7)\n",
    "'''\n",
    "#Code for decomposing a poisson process into 2 poisson process.\n",
    "#(Similar can also be done for multiple decomposed Poisson processes)\n",
    "import math\n",
    "def poisson_process(t,k,X):\n",
    "    a=math.exp(-k*t)*(k*t)**X/math.factorial(X)\n",
    "    print(a)\n",
    "lambda1= int(input(\"Initial lambda: \")) #User Input\n",
    "lambda1_a= int(input(\"lambda for 1st Poisson Process: \"))\n",
    "lambda1_b=lambda1-lambda1_a\n",
    "t1=int(input(\"Time window: \"))\n",
    "X1=int(input(\"Number of events for 1st Poisson Process: \"))\n",
    "X2=int(input(\"Number of events for 2nd Poisson Process: \")) #Substituting all values in the formula\n",
    "(math.exp(-lambda1_a*t1)*(lambda1_a*t1)**X1/math.factorial(X1))\\\n",
    "*(math.exp(-lambda1_b*t1)*(lambda1_b*t1)**X2/math.factorial(X2))\\\n",
    "/(math.exp(-lambda1*t1)*(lambda1*t1)**(X1+X2)/math.factorial(X1+X2))\n",
    "\n"
   ]
  },
  {
   "cell_type": "code",
   "execution_count": 65,
   "metadata": {},
   "outputs": [
    {
     "name": "stdout",
     "output_type": "stream",
     "text": [
      "0.9711\n"
     ]
    }
   ],
   "source": [
    "####Part d: Simulate Super Position of the process\n",
    "#Super Position Process\n",
    "import math\n",
    "import random\n",
    "import numpy as np\n",
    "import scipy.integrate as integrate\n",
    "\n",
    "\n",
    "\n",
    "def poisson_PMF(x,lambda_):\n",
    "    PMF= math.exp(-lambda_)*math.pow(lambda_,x)/math.factorial(x)\n",
    "    return(PMF)\n",
    "\n",
    "lamb_1=3\n",
    "lamb_2=4\n",
    "lamb_3=lamb_1 + lamb_2\n",
    "counter=0\n",
    "\n",
    "rand_list=[random.randrange(1,170,1) for j in range(10000)]\n",
    "\n",
    "for i in rand_list:\n",
    "    if((poisson_PMF(i,lamb_1)+poisson_PMF(i,lamb_2))-poisson_PMF(i,lamb_3)<0.01):\n",
    "        counter=counter+1\n",
    "\n",
    "print(counter/len(rand_list))"
   ]
  },
  {
   "cell_type": "code",
   "execution_count": 4,
   "metadata": {},
   "outputs": [
    {
     "name": "stdout",
     "output_type": "stream",
     "text": [
      "[ 9  7  9  4 13 16  7  9 12  5  3  8  5  9 10  6  9  9 13  6 11 10 10  7]\n",
      "-0.0003524899011508456\n",
      "-2047.4599022368686\n",
      "839704.0128155267    840000.0\n",
      "1679408.0256310534    3440200000.0\n"
     ]
    }
   ],
   "source": [
    "####Part e: Simulate Compound Process\n",
    "\n",
    "'''Compound Poisson Process- Lets assume that number of people coming to the restaurant is a Poisson\n",
    "Distribution with 10 customers per hour and their bill amounts are uniformly distributed with a range of \n",
    "1000 to 6000. Simulate to find out the expected amount of sales in a day and variance of the amount of sales\n",
    "in a day'''\n",
    "import numpy as np\n",
    "t=24            #number of hours in a day\n",
    "list_mean=[]    #list for appending values for lambda*t*E(Y)\n",
    "list_var=[]     #list for appending values for lambda*t*E(Y^2)\n",
    "\n",
    "for i in range(10000):\n",
    "    customers= np.random.poisson(10,24)     #generating 24 hours customer arrivals\n",
    "    bill_amount=np.random.uniform(1000,6000,sum(customers))     #bill amounts for each customer\n",
    "    list_mean.append(np.mean(customers)*t*np.mean(bill_amount))     #calculating compound Poisson process mean\n",
    "    list_var.append(np.mean(customers)*t*np.mean([num*2 for num in bill_amount]))  #calculating compound poisson process variance\n",
    "\n",
    "print(customers)  #printing number of customers in an hour\n",
    "print((np.mean(list_mean)-t*10*np.mean([1000,6000]))/np.mean(list_mean))   #error value compared to the calculated\n",
    "print((np.mean(list_var)-t*10*np.mean([num**2 for num in range(1000,6001)]))/np.mean(list_var))     #error value value compared to the calculated\n",
    "\n",
    "print(np.mean(list_mean),\"  \",t*10*np.mean([1000,6000]))      #values theoretical Vs simulation\n",
    "print(np.mean(list_var),\"  \",t*10*np.mean([num**2 for num in range(1000,6001)]))        #values theoretical Vs simulation"
   ]
  },
  {
   "cell_type": "code",
   "execution_count": 6,
   "metadata": {},
   "outputs": [
    {
     "name": "stdout",
     "output_type": "stream",
     "text": [
      "[-2.7906639925464845, -3.026186558311626, -3.3400779137567174, -3.7149545946456968, -3.8913485440424243, -4.200699402405439, -4.539789496738408, -4.8087310309140445, -5.162628630024328, -5.441713536371869, -5.586141723480678, -5.860300227532096, -6.153935526659078, -6.715290605730051]\n",
      "-4.659461555939925\n"
     ]
    }
   ],
   "source": [
    "####Part f: Simulate the non-homogenous Poisson Process\n",
    "#Non-homogeneous Poisson Process\n",
    "'''Rate of a Poisson Process is said to vary with respect to time as t^2 *lambda/t+2 where 0<t<24. Simulate this non-homogeneous \n",
    " Poisson Process'''\n",
    "\n",
    "'''lambda_1=3 #rate in a homogenous Poisson process\n",
    "res_1=integrate.quad(lambda t: (t)**2 * (lambda_1/(t+20)),0,24)\n",
    "print(list(res_1)) #Average number of customers in a day when customers'''\n",
    "import math\n",
    "import random\n",
    "import numpy as np\n",
    "import scipy.integrate as integrate\n",
    "\n",
    "lambda_1=3   #declaring assumed lambda\n",
    "lis_1=[]     #values for a particular time\n",
    "lis_2=[]      #mean of a values of a particular time\n",
    "import random\n",
    "for j in range(10,24):\n",
    "    for i in range(10000):\n",
    "        x=random.randint(0,j)\n",
    "        y=random.randint(0,j)\n",
    "        res_1=list(integrate.quad(lambda t: (t)*3 * (lambda_1/(t*2+20)),x,y))       #integrate the non-homogenous poisson function\n",
    "        if y-x<0:\n",
    "            continue\n",
    "        try:\n",
    "            lis_1.append(res_1[0]/y-x)      #storing the integral value divided by time range\n",
    "        except:\n",
    "            continue\n",
    "    try:\n",
    "        lis_2.append(np.mean(lis_1))        #storing the mean of integral values divided by time range\n",
    "    except:\n",
    "        continue\n",
    "    lis_1=[]        #making the list empty\n",
    "\n",
    "print(lis_2)        #printing mean of values for time \n",
    "print(np.mean(lis_2))       #printing overall mean"
   ]
  },
  {
   "cell_type": "code",
   "execution_count": null,
   "metadata": {},
   "outputs": [],
   "source": []
  }
 ],
 "metadata": {
  "kernelspec": {
   "display_name": "Python 3",
   "language": "python",
   "name": "python3"
  },
  "language_info": {
   "codemirror_mode": {
    "name": "ipython",
    "version": 3
   },
   "file_extension": ".py",
   "mimetype": "text/x-python",
   "name": "python",
   "nbconvert_exporter": "python",
   "pygments_lexer": "ipython3",
   "version": "3.7.6"
  }
 },
 "nbformat": 4,
 "nbformat_minor": 4
}
